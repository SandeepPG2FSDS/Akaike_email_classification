{
 "cells": [
  {
   "cell_type": "code",
   "execution_count": 27,
   "id": "8fc33297",
   "metadata": {},
   "outputs": [],
   "source": [
    "import pandas as pd\n",
    "df = pd.read_excel(r\"C:\\Users\\GIS\\Desktop\\wps_download\\combined_emails_with_natural_pii_.xlsx\") \n",
    "emails = df['email'].tolist()\n",
    "labels = df['type'].tolist()"
   ]
  },
  {
   "cell_type": "code",
   "execution_count": 2,
   "id": "90fe6c12",
   "metadata": {},
   "outputs": [
    {
     "name": "stderr",
     "output_type": "stream",
     "text": [
      "[nltk_data] Downloading package stopwords to\n",
      "[nltk_data]     C:\\Users\\GIS\\AppData\\Roaming\\nltk_data...\n",
      "[nltk_data]   Package stopwords is already up-to-date!\n"
     ]
    }
   ],
   "source": [
    "import re\n",
    "import nltk\n",
    "from nltk.corpus import stopwords\n",
    "\n",
    "nltk.download('stopwords')\n",
    "\n",
    "def preprocess_email(email):\n",
    "    email = re.sub(r'\\W', ' ', email)  \n",
    "    email = email.lower()               \n",
    "    email = ' '.join(word for word in email.split() if word not in stopwords.words('english')) \n",
    "    return email\n",
    "\n",
    "\n",
    "df['cleaned_email'] = df['email'].apply(preprocess_email)"
   ]
  },
  {
   "cell_type": "code",
   "execution_count": 3,
   "id": "56637f25",
   "metadata": {},
   "outputs": [],
   "source": [
    "def mask_pii(text):\n",
    "    \n",
    "    patterns = {\n",
    "        r'[A-Z][a-z]+\\s[A-Z][a-z]+': '[full_name]',   \n",
    "        r'[a-zA-Z0-9._%+-]+@[a-zA-Z0-9.-]+\\.[a-zA-Z]{2,}': '[email]',  \n",
    "        r'\\+?\\d{1,3}[-. ]?\\d{1,4}[-. ]?\\d{3}[-. ]?\\d{4}': '[phone_number]',  \n",
    "        r'(\\d{4}\\s?\\d{4}\\s?\\d{4})':'[aadhar_num]',\n",
    "        r'\\d{2}/\\d{2}/\\d{4}': '[dob]',  \n",
    "        r'\\d{4}-\\d{4}-\\d{4}-\\d{4}': '[credit_debit_no]',  \n",
    "        r'\\b\\d{3}\\b': '[cvv_no]',  \n",
    "        r'\\d{2}/\\d{2}': '[expiry_no]' \n",
    "    }\n",
    "    \n",
    "    for pattern, mask in patterns.items():\n",
    "        text = re.sub(pattern, mask, text)  \n",
    "        \n",
    "    return text\n",
    "\n",
    "\n",
    "df['masked_email'] = df['cleaned_email'].apply(mask_pii)"
   ]
  },
  {
   "cell_type": "code",
   "execution_count": 4,
   "id": "f040d31f",
   "metadata": {},
   "outputs": [
    {
     "data": {
      "text/html": [
       "<div>\n",
       "<style scoped>\n",
       "    .dataframe tbody tr th:only-of-type {\n",
       "        vertical-align: middle;\n",
       "    }\n",
       "\n",
       "    .dataframe tbody tr th {\n",
       "        vertical-align: top;\n",
       "    }\n",
       "\n",
       "    .dataframe thead th {\n",
       "        text-align: right;\n",
       "    }\n",
       "</style>\n",
       "<table border=\"1\" class=\"dataframe\">\n",
       "  <thead>\n",
       "    <tr style=\"text-align: right;\">\n",
       "      <th></th>\n",
       "      <th>email</th>\n",
       "      <th>type</th>\n",
       "      <th>cleaned_email</th>\n",
       "      <th>masked_email</th>\n",
       "    </tr>\n",
       "  </thead>\n",
       "  <tbody>\n",
       "    <tr>\n",
       "      <th>0</th>\n",
       "      <td>Subject: Unvorhergesehener Absturz der Datenan...</td>\n",
       "      <td>Incident</td>\n",
       "      <td>subject unvorhergesehener absturz der datenana...</td>\n",
       "      <td>subject unvorhergesehener absturz der datenana...</td>\n",
       "    </tr>\n",
       "    <tr>\n",
       "      <th>1</th>\n",
       "      <td>Subject: Customer Support Inquiry\\n\\nSeeking i...</td>\n",
       "      <td>Request</td>\n",
       "      <td>subject customer support inquiry seeking infor...</td>\n",
       "      <td>subject customer support inquiry seeking infor...</td>\n",
       "    </tr>\n",
       "    <tr>\n",
       "      <th>2</th>\n",
       "      <td>Subject: Data Analytics for Investment\\n\\nI am...</td>\n",
       "      <td>Request</td>\n",
       "      <td>subject data analytics investment contacting r...</td>\n",
       "      <td>subject data analytics investment contacting r...</td>\n",
       "    </tr>\n",
       "    <tr>\n",
       "      <th>3</th>\n",
       "      <td>Subject: Krankenhaus-Dienstleistung-Problem\\n\\...</td>\n",
       "      <td>Incident</td>\n",
       "      <td>subject krankenhaus dienstleistung problem ein...</td>\n",
       "      <td>subject krankenhaus dienstleistung problem ein...</td>\n",
       "    </tr>\n",
       "    <tr>\n",
       "      <th>4</th>\n",
       "      <td>Subject: Security\\n\\nDear Customer Support, I ...</td>\n",
       "      <td>Request</td>\n",
       "      <td>subject security dear customer support reachin...</td>\n",
       "      <td>subject security dear customer support reachin...</td>\n",
       "    </tr>\n",
       "  </tbody>\n",
       "</table>\n",
       "</div>"
      ],
      "text/plain": [
       "                                               email      type  \\\n",
       "0  Subject: Unvorhergesehener Absturz der Datenan...  Incident   \n",
       "1  Subject: Customer Support Inquiry\\n\\nSeeking i...   Request   \n",
       "2  Subject: Data Analytics for Investment\\n\\nI am...   Request   \n",
       "3  Subject: Krankenhaus-Dienstleistung-Problem\\n\\...  Incident   \n",
       "4  Subject: Security\\n\\nDear Customer Support, I ...   Request   \n",
       "\n",
       "                                       cleaned_email  \\\n",
       "0  subject unvorhergesehener absturz der datenana...   \n",
       "1  subject customer support inquiry seeking infor...   \n",
       "2  subject data analytics investment contacting r...   \n",
       "3  subject krankenhaus dienstleistung problem ein...   \n",
       "4  subject security dear customer support reachin...   \n",
       "\n",
       "                                        masked_email  \n",
       "0  subject unvorhergesehener absturz der datenana...  \n",
       "1  subject customer support inquiry seeking infor...  \n",
       "2  subject data analytics investment contacting r...  \n",
       "3  subject krankenhaus dienstleistung problem ein...  \n",
       "4  subject security dear customer support reachin...  "
      ]
     },
     "execution_count": 4,
     "metadata": {},
     "output_type": "execute_result"
    }
   ],
   "source": [
    "df.head()"
   ]
  },
  {
   "cell_type": "code",
   "execution_count": 11,
   "id": "cb36a792",
   "metadata": {},
   "outputs": [],
   "source": [
    "def process_email(email_content):\n",
    "    masked_content = mask_pii(email_content)\n",
    "    classification = model_ngram.predict([masked_content])[0]\n",
    "    return {\n",
    "        \"masked_email\": masked_content,\n",
    "        \"classification\": classification\n",
    "    }\n"
   ]
  },
  {
   "cell_type": "code",
   "execution_count": 5,
   "id": "d35e5372",
   "metadata": {},
   "outputs": [
    {
     "data": {
      "text/html": [
       "<style>#sk-container-id-1 {color: black;background-color: white;}#sk-container-id-1 pre{padding: 0;}#sk-container-id-1 div.sk-toggleable {background-color: white;}#sk-container-id-1 label.sk-toggleable__label {cursor: pointer;display: block;width: 100%;margin-bottom: 0;padding: 0.3em;box-sizing: border-box;text-align: center;}#sk-container-id-1 label.sk-toggleable__label-arrow:before {content: \"▸\";float: left;margin-right: 0.25em;color: #696969;}#sk-container-id-1 label.sk-toggleable__label-arrow:hover:before {color: black;}#sk-container-id-1 div.sk-estimator:hover label.sk-toggleable__label-arrow:before {color: black;}#sk-container-id-1 div.sk-toggleable__content {max-height: 0;max-width: 0;overflow: hidden;text-align: left;background-color: #f0f8ff;}#sk-container-id-1 div.sk-toggleable__content pre {margin: 0.2em;color: black;border-radius: 0.25em;background-color: #f0f8ff;}#sk-container-id-1 input.sk-toggleable__control:checked~div.sk-toggleable__content {max-height: 200px;max-width: 100%;overflow: auto;}#sk-container-id-1 input.sk-toggleable__control:checked~label.sk-toggleable__label-arrow:before {content: \"▾\";}#sk-container-id-1 div.sk-estimator input.sk-toggleable__control:checked~label.sk-toggleable__label {background-color: #d4ebff;}#sk-container-id-1 div.sk-label input.sk-toggleable__control:checked~label.sk-toggleable__label {background-color: #d4ebff;}#sk-container-id-1 input.sk-hidden--visually {border: 0;clip: rect(1px 1px 1px 1px);clip: rect(1px, 1px, 1px, 1px);height: 1px;margin: -1px;overflow: hidden;padding: 0;position: absolute;width: 1px;}#sk-container-id-1 div.sk-estimator {font-family: monospace;background-color: #f0f8ff;border: 1px dotted black;border-radius: 0.25em;box-sizing: border-box;margin-bottom: 0.5em;}#sk-container-id-1 div.sk-estimator:hover {background-color: #d4ebff;}#sk-container-id-1 div.sk-parallel-item::after {content: \"\";width: 100%;border-bottom: 1px solid gray;flex-grow: 1;}#sk-container-id-1 div.sk-label:hover label.sk-toggleable__label {background-color: #d4ebff;}#sk-container-id-1 div.sk-serial::before {content: \"\";position: absolute;border-left: 1px solid gray;box-sizing: border-box;top: 0;bottom: 0;left: 50%;z-index: 0;}#sk-container-id-1 div.sk-serial {display: flex;flex-direction: column;align-items: center;background-color: white;padding-right: 0.2em;padding-left: 0.2em;position: relative;}#sk-container-id-1 div.sk-item {position: relative;z-index: 1;}#sk-container-id-1 div.sk-parallel {display: flex;align-items: stretch;justify-content: center;background-color: white;position: relative;}#sk-container-id-1 div.sk-item::before, #sk-container-id-1 div.sk-parallel-item::before {content: \"\";position: absolute;border-left: 1px solid gray;box-sizing: border-box;top: 0;bottom: 0;left: 50%;z-index: -1;}#sk-container-id-1 div.sk-parallel-item {display: flex;flex-direction: column;z-index: 1;position: relative;background-color: white;}#sk-container-id-1 div.sk-parallel-item:first-child::after {align-self: flex-end;width: 50%;}#sk-container-id-1 div.sk-parallel-item:last-child::after {align-self: flex-start;width: 50%;}#sk-container-id-1 div.sk-parallel-item:only-child::after {width: 0;}#sk-container-id-1 div.sk-dashed-wrapped {border: 1px dashed gray;margin: 0 0.4em 0.5em 0.4em;box-sizing: border-box;padding-bottom: 0.4em;background-color: white;}#sk-container-id-1 div.sk-label label {font-family: monospace;font-weight: bold;display: inline-block;line-height: 1.2em;}#sk-container-id-1 div.sk-label-container {text-align: center;}#sk-container-id-1 div.sk-container {/* jupyter's `normalize.less` sets `[hidden] { display: none; }` but bootstrap.min.css set `[hidden] { display: none !important; }` so we also need the `!important` here to be able to override the default hidden behavior on the sphinx rendered scikit-learn.org. See: https://github.com/scikit-learn/scikit-learn/issues/21755 */display: inline-block !important;position: relative;}#sk-container-id-1 div.sk-text-repr-fallback {display: none;}</style><div id=\"sk-container-id-1\" class=\"sk-top-container\"><div class=\"sk-text-repr-fallback\"><pre>Pipeline(steps=[(&#x27;countvectorizer&#x27;, CountVectorizer()),\n",
       "                (&#x27;multinomialnb&#x27;, MultinomialNB())])</pre><b>In a Jupyter environment, please rerun this cell to show the HTML representation or trust the notebook. <br />On GitHub, the HTML representation is unable to render, please try loading this page with nbviewer.org.</b></div><div class=\"sk-container\" hidden><div class=\"sk-item sk-dashed-wrapped\"><div class=\"sk-label-container\"><div class=\"sk-label sk-toggleable\"><input class=\"sk-toggleable__control sk-hidden--visually\" id=\"sk-estimator-id-1\" type=\"checkbox\" ><label for=\"sk-estimator-id-1\" class=\"sk-toggleable__label sk-toggleable__label-arrow\">Pipeline</label><div class=\"sk-toggleable__content\"><pre>Pipeline(steps=[(&#x27;countvectorizer&#x27;, CountVectorizer()),\n",
       "                (&#x27;multinomialnb&#x27;, MultinomialNB())])</pre></div></div></div><div class=\"sk-serial\"><div class=\"sk-item\"><div class=\"sk-estimator sk-toggleable\"><input class=\"sk-toggleable__control sk-hidden--visually\" id=\"sk-estimator-id-2\" type=\"checkbox\" ><label for=\"sk-estimator-id-2\" class=\"sk-toggleable__label sk-toggleable__label-arrow\">CountVectorizer</label><div class=\"sk-toggleable__content\"><pre>CountVectorizer()</pre></div></div></div><div class=\"sk-item\"><div class=\"sk-estimator sk-toggleable\"><input class=\"sk-toggleable__control sk-hidden--visually\" id=\"sk-estimator-id-3\" type=\"checkbox\" ><label for=\"sk-estimator-id-3\" class=\"sk-toggleable__label sk-toggleable__label-arrow\">MultinomialNB</label><div class=\"sk-toggleable__content\"><pre>MultinomialNB()</pre></div></div></div></div></div></div></div>"
      ],
      "text/plain": [
       "Pipeline(steps=[('countvectorizer', CountVectorizer()),\n",
       "                ('multinomialnb', MultinomialNB())])"
      ]
     },
     "execution_count": 5,
     "metadata": {},
     "output_type": "execute_result"
    }
   ],
   "source": [
    "from sklearn.preprocessing import LabelEncoder\n",
    "from sklearn.feature_extraction.text import CountVectorizer\n",
    "from sklearn.model_selection import train_test_split\n",
    "from sklearn.naive_bayes import MultinomialNB\n",
    "from sklearn.pipeline import make_pipeline\n",
    "\n",
    "\n",
    "X_train, X_test, y_train, y_test = train_test_split(df['masked_email'], labels, test_size=0.2)\n",
    "\n",
    "\n",
    "model = make_pipeline(CountVectorizer(), MultinomialNB())\n",
    "model.fit(X_train, y_train)"
   ]
  },
  {
   "cell_type": "code",
   "execution_count": 6,
   "id": "2eea3442",
   "metadata": {
    "scrolled": true
   },
   "outputs": [
    {
     "name": "stdout",
     "output_type": "stream",
     "text": [
      "Accuracy:  0.7425\n"
     ]
    }
   ],
   "source": [
    "from sklearn.metrics import accuracy_score\n",
    "\n",
    "predictions = model.predict(X_test)\n",
    "print(\"Accuracy: \", accuracy_score(y_test, predictions))"
   ]
  },
  {
   "cell_type": "code",
   "execution_count": 7,
   "id": "71f61667",
   "metadata": {},
   "outputs": [
    {
     "data": {
      "text/plain": [
       "0.818125"
      ]
     },
     "execution_count": 7,
     "metadata": {},
     "output_type": "execute_result"
    }
   ],
   "source": [
    "accuracy_score(y_train,model.predict(X_train))"
   ]
  },
  {
   "cell_type": "code",
   "execution_count": 8,
   "id": "44437970",
   "metadata": {},
   "outputs": [
    {
     "name": "stdout",
     "output_type": "stream",
     "text": [
      "Accuracy of CountVectorizer (with n-grams) + MultinomialNB model: 0.7465\n",
      "\n",
      "Classification Report (N-grams):\n",
      "              precision    recall  f1-score   support\n",
      "\n",
      "      Change       0.98      0.58      0.73       510\n",
      "    Incident       0.66      0.96      0.78      1891\n",
      "     Problem       0.69      0.20      0.31      1016\n",
      "     Request       0.88      0.92      0.90      1383\n",
      "\n",
      "    accuracy                           0.75      4800\n",
      "   macro avg       0.80      0.67      0.68      4800\n",
      "weighted avg       0.76      0.75      0.71      4800\n",
      "\n"
     ]
    }
   ],
   "source": [
    "from sklearn.model_selection import GridSearchCV\n",
    "from sklearn.metrics import classification_report\n",
    "model_ngram = make_pipeline(CountVectorizer(ngram_range=(1, 2)), MultinomialNB())\n",
    "model_ngram.fit(X_train, y_train)\n",
    "\n",
    "# Make predictions\n",
    "y_pred_ngram = model_ngram.predict(X_test)\n",
    "\n",
    "# Evaluate\n",
    "accuracy_ngram = accuracy_score(y_test, y_pred_ngram)\n",
    "print(f\"Accuracy of CountVectorizer (with n-grams) + MultinomialNB model: {accuracy_ngram:.4f}\")\n",
    "\n",
    "print(\"\\nClassification Report (N-grams):\")\n",
    "print(classification_report(y_test, y_pred_ngram))"
   ]
  },
  {
   "cell_type": "code",
   "execution_count": 9,
   "id": "1149f87f",
   "metadata": {},
   "outputs": [],
   "source": [
    "best_model=model_ngram"
   ]
  },
  {
   "cell_type": "code",
   "execution_count": 12,
   "id": "5c04df07",
   "metadata": {},
   "outputs": [
    {
     "data": {
      "text/plain": [
       "{'masked_email': 'Subject: Hilfe bei Verbindungsproblemen mit dem Drucker benÃ¶tigtKunde <name> berichtet, dass der [full_name]Tank ET-4760 sich nicht mit dem Netzwerk verbinden lÃ¤sst You can reach me at [email].. Bitte um Anleitung fÃ¼r drahtlose Setup-Diagnosen, um das Problem schnell zu lÃ¶sen. Bitte helfen Sie bald. My name is [full_name].',\n",
       " 'classification': 'Incident'}"
      ]
     },
     "execution_count": 12,
     "metadata": {},
     "output_type": "execute_result"
    }
   ],
   "source": [
    "process_email(\"Subject: Hilfe bei Verbindungsproblemen mit dem Drucker benÃ¶tigtKunde <name> berichtet, dass der Epson EcoTank ET-4760 sich nicht mit dem Netzwerk verbinden lÃ¤sst You can reach me at liuwei@business.cn.. Bitte um Anleitung fÃ¼r drahtlose Setup-Diagnosen, um das Problem schnell zu lÃ¶sen. Bitte helfen Sie bald. My name is David Kim.\")"
   ]
  },
  {
   "cell_type": "code",
   "execution_count": 13,
   "id": "47c51525",
   "metadata": {},
   "outputs": [
    {
     "data": {
      "text/plain": [
       "{'masked_email': 'Subject: Urgente: Resolver el problema de latencia del Servicio de GestiÃ³n de AWEstimado cliente de Servicios de TI,Estamos experimentando un incidente grave con el Servicio de GestiÃ³n de AWS, especÃ\\xadficamente relacionado con la escalabilidad de nuestra infraestructura, lo cual estÃ¡ causando una alta latencia en nuestras aplicaciones desplegadas. Esto impacta severamente el rendimiento y requiere atenciÃ³n y resoluciÃ³n inmediata My name is [full_name].. Por favor, prioricen este problema y proporcionen una actualizaciÃ³n sobre el progreso de la resoluciÃ³n lo antes posible.Gracias por su rÃ¡pida respuesta.Atentamente,<name><tel_num<acc_num> You can reach me at [email].',\n",
       " 'classification': 'Incident'}"
      ]
     },
     "execution_count": 13,
     "metadata": {},
     "output_type": "execute_result"
    }
   ],
   "source": [
    "process_email(\"Subject: Urgente: Resolver el problema de latencia del Servicio de GestiÃ³n de AWEstimado cliente de Servicios de TI,Estamos experimentando un incidente grave con el Servicio de GestiÃ³n de AWS, especÃ­ficamente relacionado con la escalabilidad de nuestra infraestructura, lo cual estÃ¡ causando una alta latencia en nuestras aplicaciones desplegadas. Esto impacta severamente el rendimiento y requiere atenciÃ³n y resoluciÃ³n inmediata My name is Carlos Mendoza.. Por favor, prioricen este problema y proporcionen una actualizaciÃ³n sobre el progreso de la resoluciÃ³n lo antes posible.Gracias por su rÃ¡pida respuesta.Atentamente,<name><tel_num<acc_num> You can reach me at janesmith@company.com.\")"
   ]
  },
  {
   "cell_type": "code",
   "execution_count": 14,
   "id": "fdff4d4e",
   "metadata": {},
   "outputs": [
    {
     "data": {
      "text/plain": [
       "{'masked_email': 'Subject: Request for Assistance with [full_name]We are encountering data integration problems while optimizing investments using analytics tools. These issues might be due to unexpected software compatibility problems between various applications. Despite updating the software and checking for configuration errors, the problem continues My name is [full_name].. We would greatly appreciate your guidance in resolving this matter to ensure a smooth data flow and accurate analysis You can reach me at [email].. Please inform us of the next steps to address this issue.',\n",
       " 'classification': 'Incident'}"
      ]
     },
     "execution_count": 14,
     "metadata": {},
     "output_type": "execute_result"
    }
   ],
   "source": [
    "process_email(\"Subject: Request for Assistance with Data IntegrationWe are encountering data integration problems while optimizing investments using analytics tools. These issues might be due to unexpected software compatibility problems between various applications. Despite updating the software and checking for configuration errors, the problem continues My name is Sophia Rossi.. We would greatly appreciate your guidance in resolving this matter to ensure a smooth data flow and accurate analysis You can reach me at omar.hassan@secure.net.. Please inform us of the next steps to address this issue.\")"
   ]
  },
  {
   "cell_type": "code",
   "execution_count": 16,
   "id": "a70da914",
   "metadata": {},
   "outputs": [
    {
     "name": "stdout",
     "output_type": "stream",
     "text": [
      "Accuracy:  0.7425\n"
     ]
    }
   ],
   "source": [
    "predictions = model.predict(X_test)\n",
    "print(\"Accuracy: \", accuracy_score(y_test, predictions))"
   ]
  },
  {
   "cell_type": "code",
   "execution_count": 15,
   "id": "a8893d0e",
   "metadata": {},
   "outputs": [
    {
     "name": "stdout",
     "output_type": "stream",
     "text": [
      "accuracy: 0.7464583333333333\n"
     ]
    }
   ],
   "source": [
    "y_pred_ngram = model_ngram.predict(X_test)\n",
    "print('accuracy:',accuracy_score(y_test,y_pred_ngram))"
   ]
  },
  {
   "cell_type": "code",
   "execution_count": 17,
   "id": "5acafb0a",
   "metadata": {},
   "outputs": [],
   "source": [
    "best_model=model_ngram"
   ]
  },
  {
   "cell_type": "code",
   "execution_count": 18,
   "id": "94359153",
   "metadata": {},
   "outputs": [],
   "source": [
    "def process_email(email_content):\n",
    "    masked_content = mask_pii(email_content)\n",
    "    classification = model_ngram.predict([masked_content])[0]\n",
    "    return {\n",
    "        \"masked_email\": masked_content,\n",
    "        \"classification\": classification\n",
    "    }\n",
    "\n"
   ]
  },
  {
   "cell_type": "code",
   "execution_count": 19,
   "id": "cd612cc5",
   "metadata": {},
   "outputs": [
    {
     "data": {
      "text/plain": [
       "{'masked_email': 'Subject: [full_name] UnterstÃ¼tzungSehr geehrte Kundensupport, wir begegnen momentan unregelmÃ¤ÃŸigen Ladezeiten bei unserer Projektmanagement-Plattform. MÃ¶glicherweise ist dies auf erhÃ¶hte Nutzungsdaten zurÃ¼ckzufÃ¼hren My name is [full_name].. Wir haben bereits den Cache geleert, die Serverleistung Ã¼berprÃ¼ft und die Anwendungsdiener neu gestartet. Trotz unserer Anstrengungen besteht das Problem weiterhin. Wir schÃ¤tzen [full_name]Ã¼tzung, um bald eine LÃ¶sung anzubieten You can reach me at [email].. Bitte geben Sie uns, falls nÃ¶tig, weitere Informationen zur VerfÃ¼gung, um das Problem zu lÃ¶sen.',\n",
       " 'classification': 'Problem'}"
      ]
     },
     "execution_count": 19,
     "metadata": {},
     "output_type": "execute_result"
    }
   ],
   "source": [
    "process_email(\"Subject: Notwendige Technische UnterstÃ¼tzungSehr geehrte Kundensupport, wir begegnen momentan unregelmÃ¤ÃŸigen Ladezeiten bei unserer Projektmanagement-Plattform. MÃ¶glicherweise ist dies auf erhÃ¶hte Nutzungsdaten zurÃ¼ckzufÃ¼hren My name is Elena Ivanova.. Wir haben bereits den Cache geleert, die Serverleistung Ã¼berprÃ¼ft und die Anwendungsdiener neu gestartet. Trotz unserer Anstrengungen besteht das Problem weiterhin. Wir schÃ¤tzen Ihre UnterstÃ¼tzung, um bald eine LÃ¶sung anzubieten You can reach me at sophia.rossi@service.it.. Bitte geben Sie uns, falls nÃ¶tig, weitere Informationen zur VerfÃ¼gung, um das Problem zu lÃ¶sen.\")"
   ]
  },
  {
   "cell_type": "code",
   "execution_count": 20,
   "id": "d4f45a4e",
   "metadata": {},
   "outputs": [
    {
     "data": {
      "text/plain": [
       "{'masked_email': 'Subject: Incident of [full_name] to [full_name]There was an unauthorized access attempt on the hospital system, which could have exposed patient information due to potential vulnerabilities in the outdated security protocols and software You can reach me at [email].. Measures such as immediate system scans and password changes have been put in place to address the issue. The matter is being investigated, and appropriate steps are being taken to prevent future occurrences My name is [full_name].. Ensuring the security of patient data is our top priority, and we will provide updates as more information becomes available.',\n",
       " 'classification': 'Incident'}"
      ]
     },
     "execution_count": 20,
     "metadata": {},
     "output_type": "execute_result"
    }
   ],
   "source": [
    "process_email(\"Subject: Incident of Unauthorised Access to Hospital SystemThere was an unauthorized access attempt on the hospital system, which could have exposed patient information due to potential vulnerabilities in the outdated security protocols and software You can reach me at sophia.rossi@service.it.. Measures such as immediate system scans and password changes have been put in place to address the issue. The matter is being investigated, and appropriate steps are being taken to prevent future occurrences My name is Liu Wei.. Ensuring the security of patient data is our top priority, and we will provide updates as more information becomes available.\")"
   ]
  },
  {
   "cell_type": "code",
   "execution_count": 21,
   "id": "6eb55a70",
   "metadata": {},
   "outputs": [
    {
     "data": {
      "text/plain": [
       "{'masked_email': 'Subject: [full_name] BillingI am compiling a report on a billing discrepancy involving various tech products. The issue might have arisen due to recent subscription renewals You can reach me at [email].. Despite my attempts to verify the transactions and contacting support, the matter remains unresolved. I would greatly appreciate if you could look into this and provide a resolution as soon as possible My name is [full_name].. Please let me know if there is any additional information you need to facilitate the process.',\n",
       " 'classification': 'Incident'}"
      ]
     },
     "execution_count": 21,
     "metadata": {},
     "output_type": "execute_result"
    }
   ],
   "source": [
    "process_email(\"Subject: Concern Regarding BillingI am compiling a report on a billing discrepancy involving various tech products. The issue might have arisen due to recent subscription renewals You can reach me at fatima.farsi@help.com.. Despite my attempts to verify the transactions and contacting support, the matter remains unresolved. I would greatly appreciate if you could look into this and provide a resolution as soon as possible My name is Jane Smith.. Please let me know if there is any additional information you need to facilitate the process.\"\n",
    ")"
   ]
  },
  {
   "cell_type": "code",
   "execution_count": 22,
   "id": "0ad59cb8",
   "metadata": {},
   "outputs": [
    {
     "data": {
      "text/plain": [
       "{'masked_email': 'Subject: Problem mit der HP DeskJet 3755 WLAN-VerbindungSehr geehrter [full_name] [full_name], mein HP DeskJet 3755 verbindet sich nicht drahtlos mit meinem Laptop. KÃ¶nnten Sie mir bitte helfen, dieses Problem zu lÃ¶sen? [full_name] You can reach me at [email].. Mit freundlichen GrÃ¼ÃŸen, <name>. My name is [full_name].',\n",
       " 'classification': 'Problem'}"
      ]
     },
     "execution_count": 22,
     "metadata": {},
     "output_type": "execute_result"
    }
   ],
   "source": [
    "process_email(\"Subject: Problem mit der HP DeskJet 3755 WLAN-VerbindungSehr geehrter Tech Online Store Support, mein HP DeskJet 3755 verbindet sich nicht drahtlos mit meinem Laptop. KÃ¶nnten Sie mir bitte helfen, dieses Problem zu lÃ¶sen? Vielen Dank You can reach me at maria.gonzalez@shop.es.. Mit freundlichen GrÃ¼ÃŸen, <name>. My name is Sophia Rossi.\"\n",
    ")"
   ]
  },
  {
   "cell_type": "code",
   "execution_count": 23,
   "id": "3db465f9",
   "metadata": {},
   "outputs": [
    {
     "data": {
      "text/plain": [
       "{'masked_email': 'Subject: [full_name] Needed: [full_name] Router[full_name] [full_name][full_name] Router ISR4331 is encountering a sudden malfunction, resulting in significant network disruptions throughout our system. This matter is urgent and requires your prompt technical support My name is [full_name].. We believe that updating the routerâ€™s firmware could bring it back to its usual operating condition. Please accelerate the troubleshooting process to fix these disruptions and reinstate our services at your earliest opportunity You can reach me at [email].. Continuous, uninterrupted service is crucial for us, and we greatly value your quick help.Best regards,<name<tel_num>',\n",
       " 'classification': 'Incident'}"
      ]
     },
     "execution_count": 23,
     "metadata": {},
     "output_type": "execute_result"
    }
   ],
   "source": [
    "process_email(\"Subject: Immediate Assistance Needed: Troubled Cisco RouterDear Customer Support TeamOur Cisco Router ISR4331 is encountering a sudden malfunction, resulting in significant network disruptions throughout our system. This matter is urgent and requires your prompt technical support My name is Sophia Rossi.. We believe that updating the routerâ€™s firmware could bring it back to its usual operating condition. Please accelerate the troubleshooting process to fix these disruptions and reinstate our services at your earliest opportunity You can reach me at johndoe@email.com.. Continuous, uninterrupted service is crucial for us, and we greatly value your quick help.Best regards,<name<tel_num>\")"
   ]
  },
  {
   "cell_type": "code",
   "execution_count": 24,
   "id": "1f50aaed",
   "metadata": {},
   "outputs": [
    {
     "data": {
      "text/plain": [
       "{'masked_email': 'Subject: [full_name] [full_name] Concern, I am contacting you to report a possible data breach, which may be related to outdated software You can reach me at [email].. Despite my attempts to update various programs, including Snagit, Ansible, and Firebase, the problem continues. I am worried about the security of my data and would appreciate your help in addressing this issue promptly. Could you advise on the next steps or suggest a solution to prevent future breaches? I value your swift response to this matter and eagerly await your guidance. Please inform me if you require any further information to assist me. I can be reached at your convenience to discuss this further. Thank you for your support in resolving this issue. Please provide any necessary reference number <ref_num> for my records, and I look forward to your prompt follow-up. My name is [full_name]-Farsi.',\n",
       " 'classification': 'Incident'}"
      ]
     },
     "execution_count": 24,
     "metadata": {},
     "output_type": "execute_result"
    }
   ],
   "source": [
    "process_email(\"Subject: To Whom It May Concern, I am contacting you to report a possible data breach, which may be related to outdated software You can reach me at david.kim@corp.kr.. Despite my attempts to update various programs, including Snagit, Ansible, and Firebase, the problem continues. I am worried about the security of my data and would appreciate your help in addressing this issue promptly. Could you advise on the next steps or suggest a solution to prevent future breaches? I value your swift response to this matter and eagerly await your guidance. Please inform me if you require any further information to assist me. I can be reached at your convenience to discuss this further. Thank you for your support in resolving this issue. Please provide any necessary reference number <ref_num> for my records, and I look forward to your prompt follow-up. My name is Fatima Al-Farsi.\")"
   ]
  },
  {
   "cell_type": "code",
   "execution_count": 25,
   "id": "8f76c347",
   "metadata": {},
   "outputs": [
    {
     "data": {
      "text/plain": [
       "{'masked_email': 'Subject: La aplicaciÃ³n se vuelve no receptiva mientras se exporta.. My contact number is +82-[phone_number].',\n",
       " 'classification': 'Incident'}"
      ]
     },
     "execution_count": 25,
     "metadata": {},
     "output_type": "execute_result"
    }
   ],
   "source": [
    "process_email(\"Subject: La aplicaciÃ³n se vuelve no receptiva mientras se exporta.. My contact number is +82-2-3456-7890.\")"
   ]
  },
  {
   "cell_type": "code",
   "execution_count": 26,
   "id": "8edea971",
   "metadata": {},
   "outputs": [
    {
     "data": {
      "text/plain": [
       "{'masked_email': 'Subject: Rechnungsproblem bei der VerlÃ¤ngerung von [full_name]Sehr geehrter Kundenservice,ich schreibe, um eine Rechnungsproblematik bezÃ¼glich meines [full_name] [full_name] Abonnements anzufechten. [full_name]Ã¤ngerungsgebÃ¼hren stimmen nicht mit dem vereinbarten Servicezeitraum Ã¼berein You can reach me at [email].. Bitte Ã¼berprÃ¼fen Sie mein Konto (<acc_num>) und erklÃ¤ren Sie mir die fehlerhaften GebÃ¼hren fÃ¼r die kÃ¼rzliche VerlÃ¤ngerung. Ihre zeitnahe Aufmerksamkeit fÃ¼r dieses Anliegen wÃ¤re sehr geschÃ¤tzt.[full_name].Mit freundlichen GrÃ¼ÃŸen<name><tel_num> My name is [full_name].',\n",
       " 'classification': 'Problem'}"
      ]
     },
     "execution_count": 26,
     "metadata": {},
     "output_type": "execute_result"
    }
   ],
   "source": [
    "process_email(\"Subject: Rechnungsproblem bei der VerlÃ¤ngerung von Google WorkspaceSehr geehrter Kundenservice,ich schreibe, um eine Rechnungsproblematik bezÃ¼glich meines Google Workspace Business Standard Abonnements anzufechten. Die VerlÃ¤ngerungsgebÃ¼hren stimmen nicht mit dem vereinbarten Servicezeitraum Ã¼berein You can reach me at elena.ivanova@support.org.. Bitte Ã¼berprÃ¼fen Sie mein Konto (<acc_num>) und erklÃ¤ren Sie mir die fehlerhaften GebÃ¼hren fÃ¼r die kÃ¼rzliche VerlÃ¤ngerung. Ihre zeitnahe Aufmerksamkeit fÃ¼r dieses Anliegen wÃ¤re sehr geschÃ¤tzt.Vielen Dank.Mit freundlichen GrÃ¼ÃŸen<name><tel_num> My name is Sophia Rossi.\")"
   ]
  },
  {
   "cell_type": "code",
   "execution_count": 28,
   "id": "29306d00",
   "metadata": {},
   "outputs": [
    {
     "data": {
      "text/plain": [
       "{'masked_email': 'Subject: Seeking detailed information on the features of the SaaS project management platform, particularly task management, team collaboration, and reporting capabilities My name is [full_name].. Also, interested in knowing the integration options with various tools and services You can reach me at [email].. This information will assist in determining if the platform is a good fit for our needs.',\n",
       " 'classification': 'Request'}"
      ]
     },
     "execution_count": 28,
     "metadata": {},
     "output_type": "execute_result"
    }
   ],
   "source": [
    "process_email(\"Subject: Seeking detailed information on the features of the SaaS project management platform, particularly task management, team collaboration, and reporting capabilities My name is Liu Wei.. Also, interested in knowing the integration options with various tools and services You can reach me at fatima.farsi@help.com.. This information will assist in determining if the platform is a good fit for our needs.\")"
   ]
  },
  {
   "cell_type": "code",
   "execution_count": null,
   "id": "65323935",
   "metadata": {},
   "outputs": [],
   "source": []
  }
 ],
 "metadata": {
  "kernelspec": {
   "display_name": "Python 3 (ipykernel)",
   "language": "python",
   "name": "python3"
  },
  "language_info": {
   "codemirror_mode": {
    "name": "ipython",
    "version": 3
   },
   "file_extension": ".py",
   "mimetype": "text/x-python",
   "name": "python",
   "nbconvert_exporter": "python",
   "pygments_lexer": "ipython3",
   "version": "3.10.9"
  }
 },
 "nbformat": 4,
 "nbformat_minor": 5
}
